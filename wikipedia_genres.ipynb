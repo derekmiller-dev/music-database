{
 "cells": [
  {
   "cell_type": "markdown",
   "id": "bab78a47",
   "metadata": {},
   "source": [
    "Things to Clean Up when making Primary/Secondary artists for each row:\n",
    "- Note that there will be multiple primary and secondary artist columns\n",
    "- Remove \"\n",
    "- Change '$' to 'S'\n",
    "- If row contains '(' or ')', make everything primary artist and highlight row red\n",
    "- Split Primary and Secondary Artists based on 'Featuring', 'Feat.'\n",
    "- Also Split artists within each category (primary or secondary) based on Comma ',', '&', 'x', 'Duet With', '+', 'And', 'With' - not-case-sensitive\n",
    "- But only split on 'and' if it's not 'and the', '& the', 'and his', '& his', otherwise just leave original artist unchanged in primary artist column - not-case-sensitive\n",
    "- But only split on 'with' ir it's not 'with the', otherwise just leave original artist unchanged in primary artist column - not-case-sensitive\n",
    "\n",
    "Things to Consider\n",
    "- Values after 'Featuring' are Secondary Artists\n",
    "- Values before 'Featuring' are Primary Artists\n",
    "- Just a note, go back and note rows with 'and the', 'with the', '/', 'his orch', '& the' -\n",
    "\n",
    "Example: 21 Savage, Offset & Metro Boomin Featuring Quavo, Kanye West\n",
    "- Primary Artist 1: 21 Savage\n",
    "- Primary Artist 2: Offset\n",
    "- Primary Artist 3: Metro Boomin\n",
    "- Secondary Artist 1: Quavo\n",
    "- Secondary Artist 2: Kanye West"
   ]
  },
  {
   "cell_type": "code",
   "execution_count": 4,
   "id": "711e4f30",
   "metadata": {},
   "outputs": [
    {
     "name": "stdout",
     "output_type": "stream",
     "text": [
      "✅ Done! Output saved to 'parsed_artists_output.csv'\n"
     ]
    }
   ],
   "source": [
    "import pandas as pd\n",
    "import re\n",
    "\n",
    "# Load your CSV\n",
    "df = pd.read_csv('billboard_hot_100_unique_artists.csv')  # Replace with your actual file path\n",
    "\n",
    "# Clean individual artist name\n",
    "def clean_name(name):\n",
    "    return name.strip().replace('\"', '').replace('$', 'S')\n",
    "\n",
    "# Check if protected phrase exists (don't split in these cases)\n",
    "def contains_protected_pattern(text):\n",
    "    protected = ['and the', '& the', 'and his', '& his', 'with the', 'his orch', '/']\n",
    "    return any(phrase in text.lower() for phrase in protected)\n",
    "\n",
    "# Smart splitter for artist blocks (comma, &, x, +, duet with, and, with — case-insensitive)\n",
    "def smart_split(part):\n",
    "    if not part or contains_protected_pattern(part):\n",
    "        return [clean_name(part)]\n",
    "\n",
    "    split_pattern = r'\\s*(,|&|\\sx\\s|\\+|duet with|\\band\\b|\\bwith\\b)\\s*'\n",
    "    return [\n",
    "        clean_name(piece) for piece in re.split(split_pattern, part, flags=re.IGNORECASE)\n",
    "        if piece.strip() and piece.lower() not in ['and', 'with', 'duet with', '&', '+', ',', ' x ']\n",
    "    ]\n",
    "\n",
    "# Full parsing logic\n",
    "def parse_artist_row(artist_raw):\n",
    "    raw = str(artist_raw)\n",
    "\n",
    "    # Highlight if parentheses are present\n",
    "    if '(' in raw or ')' in raw:\n",
    "        return {\n",
    "            'primary': [clean_name(raw)],\n",
    "            'secondary': [],\n",
    "            'highlight_red': True\n",
    "        }\n",
    "\n",
    "    # Cleanup\n",
    "    raw = raw.replace('\"', '').replace('$', 'S')\n",
    "\n",
    "    # Split on Featuring / Feat.\n",
    "    split = re.split(r'(?i)\\b(featuring|feat\\.?)\\b', raw, maxsplit=1)\n",
    "    primary_part = split[0].strip()\n",
    "    secondary_part = split[2].strip() if len(split) > 2 else ''\n",
    "\n",
    "    return {\n",
    "        'primary': smart_split(primary_part),\n",
    "        'secondary': smart_split(secondary_part),\n",
    "        'highlight_red': False\n",
    "    }\n",
    "\n",
    "# Apply parsing to each row\n",
    "parsed = df['Artist'].apply(parse_artist_row)\n",
    "\n",
    "# Create expanded DataFrame\n",
    "max_primary = max(parsed.apply(lambda x: len(x['primary'])))\n",
    "max_secondary = max(parsed.apply(lambda x: len(x['secondary'])))\n",
    "\n",
    "primary_cols = pd.DataFrame(parsed.apply(lambda x: x['primary']).to_list(), columns=[f'Primary Artist {i+1}' for i in range(max_primary)])\n",
    "secondary_cols = pd.DataFrame(parsed.apply(lambda x: x['secondary']).to_list(), columns=[f'Secondary Artist {i+1}' for i in range(max_secondary)])\n",
    "highlight_col = parsed.apply(lambda x: x['highlight_red'])\n",
    "\n",
    "# Final output\n",
    "final_df = pd.concat([df, primary_cols, secondary_cols], axis=1)\n",
    "final_df['Highlight Red'] = highlight_col\n",
    "\n",
    "# Save or display\n",
    "final_df.to_csv('parsed_artists_output.csv', index=False)\n",
    "print(\"✅ Done! Output saved to 'parsed_artists_output.csv'\")\n"
   ]
  },
  {
   "cell_type": "markdown",
   "id": "7f3ab1e9",
   "metadata": {},
   "source": [
    "Future Fixes:\n",
    "- Don't split by comma if it's part of a number (e.g. 10,000)\n",
    "- Only Capitalize 'S' (when replacing a $) if it's at the beginning of a word, lowercase otherwise"
   ]
  },
  {
   "cell_type": "markdown",
   "id": "3ee8ecee",
   "metadata": {},
   "source": []
  }
 ],
 "metadata": {
  "kernelspec": {
   "display_name": "Python 3",
   "language": "python",
   "name": "python3"
  },
  "language_info": {
   "codemirror_mode": {
    "name": "ipython",
    "version": 3
   },
   "file_extension": ".py",
   "mimetype": "text/x-python",
   "name": "python",
   "nbconvert_exporter": "python",
   "pygments_lexer": "ipython3",
   "version": "3.13.0"
  }
 },
 "nbformat": 4,
 "nbformat_minor": 5
}
